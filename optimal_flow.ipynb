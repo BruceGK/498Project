{
 "cells": [
  {
   "cell_type": "code",
   "execution_count": null,
   "metadata": {},
   "outputs": [],
   "source": [
    "conda install python=3.8 anaconda=custom"
   ]
  },
  {
   "cell_type": "code",
   "execution_count": null,
   "metadata": {},
   "outputs": [],
   "source": [
    "pip install OptimalFlow\n"
   ]
  },
  {
   "cell_type": "code",
   "execution_count": null,
   "metadata": {},
   "outputs": [],
   "source": [
    "custom_PP={\n",
    "    \"scaler\":[\"None\",\"standard\"],\n",
    "    \"encode_band\":[6],\n",
    "    \"low_encode\":[\"onehot\",\"label\"],\n",
    "    \"high_encode\":[\"frequency\",\"mean\"],\n",
    "    \"winsorizer\":[(0.05,0.05),(0.1,0.1)],\n",
    "    \"sparsity\":[0.4],\n",
    "    \"cols\": [100]\n",
    "}"
   ]
  },
  {
   "cell_type": "code",
   "execution_count": null,
   "metadata": {},
   "outputs": [],
   "source": [
    "custom_FS=['price_diff','tradding_diff', 'rfe_svm']"
   ]
  },
  {
   "cell_type": "code",
   "execution_count": null,
   "metadata": {},
   "outputs": [],
   "source": [
    "custom_CV=['lr','knn','svm','mlp','tree','rf','gb','ada','xgb','huber','rgcv','cvlasso']"
   ]
  },
  {
   "cell_type": "code",
   "execution_count": null,
   "metadata": {},
   "outputs": [],
   "source": [
    "pip install xgboost"
   ]
  },
  {
   "cell_type": "code",
   "execution_count": null,
   "metadata": {},
   "outputs": [],
   "source": [
    "import pandas as pd\n",
    "import torch\n",
    "from optimalflow.autoPipe import autoPipe\n",
    "from optimalflow.funcPP import PPtools\n",
    "from optimalflow.autoPP import dynaPreprocessing\n",
    "from optimalflow.autoFS import dynaFS_clf\n",
    "from optimalflow.autoCV import evaluate_model,dynaClassifier"
   ]
  },
  {
   "cell_type": "code",
   "execution_count": null,
   "metadata": {},
   "outputs": [],
   "source": [
    "import pandas as pd\n",
    "from optimalflow.autoCV import evaluate_model,dynaClassifier,dynaRegressor\n",
    "import joblib\n",
    "\n",
    "from optimalflow.utilis_func import pipeline_splitting_rule, update_parameters,reset_parameters"
   ]
  },
  {
   "cell_type": "code",
   "execution_count": null,
   "metadata": {},
   "outputs": [],
   "source": [
    "from optimalflow.autoFS import dynaFS_reg\n",
    "import joblib\n",
    "from optimalflow.autoCV import fastRegressor\n",
    "pipe=autoPipe(\n",
    "[(\"autoPP\",dynaPreprocessing(custom_parameters= custom_PP, label_col= 'price_diff',model_type='reg')),\n",
    "(\"datasets_splitting\",pipeline_splitting_rule(val_size=0.2, test_size=0.2,random_state=123)),\n",
    "(\"autoFS\",dynaFS_reg(custom_selectors = custom_FS,fs_num=10,random_state=123,cv=5, in_pipeline= True,\n",
    "                    input_from_file=True)),\n",
    "(\"autoCV\",fastRegressor(custom_estimators=custom_CV,random_state=123,cv_num=5,in_pipeline=True,\n",
    "                       input_from_file=True)),\n",
    "(\"model_evaluate\",evaluate_model(model_type = \"reg\"))])"
   ]
  },
  {
   "cell_type": "code",
   "execution_count": null,
   "metadata": {},
   "outputs": [],
   "source": [
    ""
   ]
  },
  {
   "cell_type": "code",
   "execution_count": null,
   "metadata": {},
   "outputs": [],
   "source": [
    ""
   ]
  }
 ],
 "metadata": {},
 "nbformat": 4,
 "nbformat_minor": 0
}
